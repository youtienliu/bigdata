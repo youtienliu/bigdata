{
  "nbformat": 4,
  "nbformat_minor": 0,
  "metadata": {
    "colab": {
      "name": "0316_作業.ipynb",
      "provenance": [],
      "collapsed_sections": [],
      "include_colab_link": true
    },
    "kernelspec": {
      "name": "ir",
      "display_name": "R"
    }
  },
  "cells": [
    {
      "cell_type": "markdown",
      "metadata": {
        "id": "view-in-github",
        "colab_type": "text"
      },
      "source": [
        "<a href=\"https://colab.research.google.com/github/youtienliu/bigdata/blob/main/0316_%E4%BD%9C%E6%A5%AD.ipynb\" target=\"_parent\"><img src=\"https://colab.research.google.com/assets/colab-badge.svg\" alt=\"Open In Colab\"/></a>"
      ]
    },
    {
      "cell_type": "code",
      "metadata": {
        "colab": {
          "base_uri": "https://localhost:8080/"
        },
        "id": "52nQxIe0U54T",
        "outputId": "5a406b2a-bf1a-4fe1-b63a-80273b798102"
      },
      "source": [
        "install.packages(\"jsonlite\")"
      ],
      "execution_count": 21,
      "outputs": [
        {
          "output_type": "stream",
          "text": [
            "Installing package into ‘/usr/local/lib/R/site-library’\n",
            "(as ‘lib’ is unspecified)\n",
            "\n"
          ],
          "name": "stderr"
        }
      ]
    },
    {
      "cell_type": "code",
      "metadata": {
        "id": "mvK20hrqVLQp"
      },
      "source": [
        "library(\"jsonlite\")"
      ],
      "execution_count": 22,
      "outputs": []
    },
    {
      "cell_type": "code",
      "metadata": {
        "id": "tkPH6tG-VSJK"
      },
      "source": [
        "YouBikeData <-jsonlite::fromJSON(\"https://datacenter.taichung.gov.tw/swagger/OpenData/9af00e84-473a-4f3d-99be-b875d8e86256\")"
      ],
      "execution_count": 23,
      "outputs": []
    },
    {
      "cell_type": "code",
      "metadata": {
        "colab": {
          "base_uri": "https://localhost:8080/"
        },
        "id": "KCzMMhhLVsr1",
        "outputId": "1bf19181-e4a1-4559-bf12-ce55037233a2"
      },
      "source": [
        "str(YouBikeData)"
      ],
      "execution_count": 24,
      "outputs": [
        {
          "output_type": "stream",
          "text": [
            "List of 3\n",
            " $ retCode   : int 1\n",
            " $ updated_at: chr \"2021-03-16 17:39:10\"\n",
            " $ retVal    :'data.frame':\t141 obs. of  14 variables:\n",
            "  ..$ sna    : chr [1:141] \"YouBike2.0_旱溪西東山路一段146巷口\" \"YouBike2.0_力行國小(進化路221巷)\" \"YouBike2.0_進化精武路口(西南側)\" \"YouBike2.0_國光國小(仁和路)\" ...\n",
            "  ..$ sarea  : chr [1:141] \"北屯區\" \"東區\" \"東區\" \"南區\" ...\n",
            "  ..$ ar     : chr [1:141] \"東山路一段146-22號\" \"進化路/進化路221巷口(西北側)\" \"進化路/精武路口(西南側)\" \"國光路261號\" ...\n",
            "  ..$ snaen  : chr [1:141] \"YouBike2.0_Hanxi W. Rd. / Ln. 146 Dongshan Rd. Sec.1\" \"YouBike2.0_Li Sing Elementary School (Ln. 221 Jinhua Rd.)\" \"YouBike2.0_Jinhua Rd. / Jingwu Rd. (Southwest)\" \"YouBike2.0_Kuo-Kuang Elementary School (Renhe Rd.)\" ...\n",
            "  ..$ sareaen: chr [1:141] \"Beitun Dist\" \"East Dist\" \"East Dist\" \"South Dist\" ...\n",
            "  ..$ aren   : chr [1:141] \"No. 146-22, Sec. 1, Dongshan Rd.\" \"Jinhua Rd., East Dist. & Ln. 211, Jinhua Rd. Intersection (Northwest)\" \"Jinhua Rd., East Dist. & Jingwu Rd. Intersection (Southwest)\" \"No. 261, Guoguang Rd.\" ...\n",
            "  ..$ sno    : chr [1:141] \"500608026\" \"500602017\" \"500602018\" \"500604018\" ...\n",
            "  ..$ tot    : chr [1:141] \"17\" \"20\" \"17\" \"14\" ...\n",
            "  ..$ sbi    : chr [1:141] \"10\" \"17\" \"12\" \"11\" ...\n",
            "  ..$ mday   : chr [1:141] \"20210316173906\" \"20210316173905\" \"20210316173905\" \"20210316173905\" ...\n",
            "  ..$ lat    : chr [1:141] \"24.16903\" \"24.14999\" \"24.14765\" \"24.1263\" ...\n",
            "  ..$ lng    : chr [1:141] \"120.70502\" \"120.69419\" \"120.69417\" \"120.67955\" ...\n",
            "  ..$ bemp   : chr [1:141] \"7\" \"3\" \"5\" \"3\" ...\n",
            "  ..$ act    : chr [1:141] \"1\" \"1\" \"1\" \"1\" ...\n"
          ],
          "name": "stdout"
        }
      ]
    },
    {
      "cell_type": "code",
      "metadata": {
        "colab": {
          "base_uri": "https://localhost:8080/",
          "height": 835
        },
        "id": "bUl7qHJdVzSq",
        "outputId": "71e1ef62-a74f-4499-b3a2-a855a0c60796"
      },
      "source": [
        "head(YouBikeData$retVal, n=10)"
      ],
      "execution_count": 39,
      "outputs": [
        {
          "output_type": "display_data",
          "data": {
            "text/plain": [
              "   sna                                sarea \n",
              "1  YouBike2.0_旱溪西東山路一段146巷口 北屯區\n",
              "2  YouBike2.0_力行國小(進化路221巷)   東區  \n",
              "3  YouBike2.0_進化精武路口(西南側)    東區  \n",
              "4  YouBike2.0_國光國小(仁和路)        南區  \n",
              "5  YouBike2.0_仁愛公園                北屯區\n",
              "6  YouBike2.0_和平公園                南區  \n",
              "7  YouBike2.0_南苑公園(文心南五路)    南屯區\n",
              "8  YouBike2.0_中仁公園                西屯區\n",
              "9  YouBike2.0_東峰公園                東區  \n",
              "10 YouBike2.0_草悟道(公益路155巷)     西區  \n",
              "   ar                                 \n",
              "1  東山路一段146-22號                 \n",
              "2  進化路/進化路221巷口(西北側)       \n",
              "3  進化路/精武路口(西南側)            \n",
              "4  國光路261號                        \n",
              "5  平德路18巷33弄18號                 \n",
              "6  復興路二段15巷/文心南十路口(西北側)\n",
              "7  文心南五路一段283號(對側人行道)    \n",
              "8  寧夏路89巷38號(對側人行道)         \n",
              "9  七中路/興大路口(東側)              \n",
              "10 公益路155巷/公正路口(西南側)       \n",
              "   snaen                                                     sareaen    \n",
              "1  YouBike2.0_Hanxi W. Rd. / Ln. 146 Dongshan Rd. Sec.1      Beitun Dist\n",
              "2  YouBike2.0_Li Sing Elementary School (Ln. 221 Jinhua Rd.) East Dist  \n",
              "3  YouBike2.0_Jinhua Rd. / Jingwu Rd. (Southwest)            East Dist  \n",
              "4  YouBike2.0_Kuo-Kuang Elementary School (Renhe Rd.)        South Dist \n",
              "5  YouBike2.0_Renai Park                                     Beitun Dist\n",
              "6  YouBike2.0_Heping Park                                    South Dist \n",
              "7  YouBike2.0_Nanyuan Park (Wenxin S. 5th Rd.)               Nantun Dist\n",
              "8  YouBike2.0_Zhongren Park                                  Xitun Dist \n",
              "9  YouBike2.0_Dongfeng Park                                  East Dist  \n",
              "10 YouBike2.0_Calligraphy Greenway(Ln. 155 Gongyi Rd.)       West Dist  \n",
              "   aren                                                                    \n",
              "1  No. 146-22, Sec. 1, Dongshan Rd.                                        \n",
              "2  Jinhua Rd., East Dist. & Ln. 211, Jinhua Rd. Intersection (Northwest)   \n",
              "3  Jinhua Rd., East Dist. & Jingwu Rd. Intersection (Southwest)            \n",
              "4  No. 261, Guoguang Rd.                                                   \n",
              "5  No. 18, Aly. 33, Ln. 18, Pingde Rd.                                     \n",
              "6  Ln. 15, Sec. 2, Fuxing Rd. & Wenxin S. 10th Rd. Intersection (Northwest)\n",
              "7  No.283, Sec. 1, Wenxin S. 5th Rd. (Opposite)                            \n",
              "8  No.38, Ln. 89, Ningxia Rd. (Opposite)                                   \n",
              "9  Qizhong Rd. & Xingda Rd. Intersection (East)                            \n",
              "10 Ln. 155, Gongyi Rd. & Gongzheng Rd. Intersection (Southwest)            \n",
              "   sno       tot sbi mday           lat      lng       bemp act\n",
              "1  500608026 17  10  20210316173906 24.16903 120.70502 7    1  \n",
              "2  500602017 20  17  20210316173905 24.14999 120.69419 3    1  \n",
              "3  500602018 17  12  20210316173905 24.14765 120.69417 5    1  \n",
              "4  500604018 14  11  20210316173905 24.1263  120.67955 3    1  \n",
              "5  500608022 15  1   20210316173906 24.18162 120.6738  14   1  \n",
              "6  500604014 17  10  20210316173905 24.1189  120.65804 7    1  \n",
              "7  500607020 17  4   20210316173906 24.13211 120.64761 13   1  \n",
              "8  500606037 18  1   20210316173906 24.16561 120.66077 17   1  \n",
              "9  500602014 20  15  20210316173905 24.12415 120.68503 5    1  \n",
              "10 500603016 18  3   20210316173905 24.1488  120.66434 15   1  "
            ],
            "text/latex": "A data.frame: 10 × 14\n\\begin{tabular}{r|llllllllllllll}\n  & sna & sarea & ar & snaen & sareaen & aren & sno & tot & sbi & mday & lat & lng & bemp & act\\\\\n  & <chr> & <chr> & <chr> & <chr> & <chr> & <chr> & <chr> & <chr> & <chr> & <chr> & <chr> & <chr> & <chr> & <chr>\\\\\n\\hline\n\t1 & YouBike2.0\\_旱溪西東山路一段146巷口 & 北屯區 & 東山路一段146-22號                  & YouBike2.0\\_Hanxi W. Rd. / Ln. 146 Dongshan Rd. Sec.1      & Beitun Dist & No. 146-22, Sec. 1, Dongshan Rd.                                         & 500608026 & 17 & 10 & 20210316173906 & 24.16903 & 120.70502 & 7  & 1\\\\\n\t2 & YouBike2.0\\_力行國小(進化路221巷)   & 東區   & 進化路/進化路221巷口(西北側)        & YouBike2.0\\_Li Sing Elementary School (Ln. 221 Jinhua Rd.) & East Dist   & Jinhua Rd., East Dist. \\& Ln. 211, Jinhua Rd. Intersection (Northwest)    & 500602017 & 20 & 17 & 20210316173905 & 24.14999 & 120.69419 & 3  & 1\\\\\n\t3 & YouBike2.0\\_進化精武路口(西南側)    & 東區   & 進化路/精武路口(西南側)             & YouBike2.0\\_Jinhua Rd. / Jingwu Rd. (Southwest)            & East Dist   & Jinhua Rd., East Dist. \\& Jingwu Rd. Intersection (Southwest)             & 500602018 & 17 & 12 & 20210316173905 & 24.14765 & 120.69417 & 5  & 1\\\\\n\t4 & YouBike2.0\\_國光國小(仁和路)        & 南區   & 國光路261號                         & YouBike2.0\\_Kuo-Kuang Elementary School (Renhe Rd.)        & South Dist  & No. 261, Guoguang Rd.                                                    & 500604018 & 14 & 11 & 20210316173905 & 24.1263  & 120.67955 & 3  & 1\\\\\n\t5 & YouBike2.0\\_仁愛公園                & 北屯區 & 平德路18巷33弄18號                  & YouBike2.0\\_Renai Park                                     & Beitun Dist & No. 18, Aly. 33, Ln. 18, Pingde Rd.                                      & 500608022 & 15 & 1  & 20210316173906 & 24.18162 & 120.6738  & 14 & 1\\\\\n\t6 & YouBike2.0\\_和平公園                & 南區   & 復興路二段15巷/文心南十路口(西北側) & YouBike2.0\\_Heping Park                                    & South Dist  & Ln. 15, Sec. 2, Fuxing Rd. \\& Wenxin S. 10th Rd. Intersection (Northwest) & 500604014 & 17 & 10 & 20210316173905 & 24.1189  & 120.65804 & 7  & 1\\\\\n\t7 & YouBike2.0\\_南苑公園(文心南五路)    & 南屯區 & 文心南五路一段283號(對側人行道)     & YouBike2.0\\_Nanyuan Park (Wenxin S. 5th Rd.)               & Nantun Dist & No.283, Sec. 1, Wenxin S. 5th Rd. (Opposite)                             & 500607020 & 17 & 4  & 20210316173906 & 24.13211 & 120.64761 & 13 & 1\\\\\n\t8 & YouBike2.0\\_中仁公園                & 西屯區 & 寧夏路89巷38號(對側人行道)          & YouBike2.0\\_Zhongren Park                                  & Xitun Dist  & No.38, Ln. 89, Ningxia Rd. (Opposite)                                    & 500606037 & 18 & 1  & 20210316173906 & 24.16561 & 120.66077 & 17 & 1\\\\\n\t9 & YouBike2.0\\_東峰公園                & 東區   & 七中路/興大路口(東側)               & YouBike2.0\\_Dongfeng Park                                  & East Dist   & Qizhong Rd. \\& Xingda Rd. Intersection (East)                             & 500602014 & 20 & 15 & 20210316173905 & 24.12415 & 120.68503 & 5  & 1\\\\\n\t10 & YouBike2.0\\_草悟道(公益路155巷)     & 西區   & 公益路155巷/公正路口(西南側)        & YouBike2.0\\_Calligraphy Greenway(Ln. 155 Gongyi Rd.)       & West Dist   & Ln. 155, Gongyi Rd. \\& Gongzheng Rd. Intersection (Southwest)             & 500603016 & 18 & 3  & 20210316173905 & 24.1488  & 120.66434 & 15 & 1\\\\\n\\end{tabular}\n",
            "text/markdown": "\nA data.frame: 10 × 14\n\n| <!--/--> | sna &lt;chr&gt; | sarea &lt;chr&gt; | ar &lt;chr&gt; | snaen &lt;chr&gt; | sareaen &lt;chr&gt; | aren &lt;chr&gt; | sno &lt;chr&gt; | tot &lt;chr&gt; | sbi &lt;chr&gt; | mday &lt;chr&gt; | lat &lt;chr&gt; | lng &lt;chr&gt; | bemp &lt;chr&gt; | act &lt;chr&gt; |\n|---|---|---|---|---|---|---|---|---|---|---|---|---|---|---|\n| 1 | YouBike2.0_旱溪西東山路一段146巷口 | 北屯區 | 東山路一段146-22號                  | YouBike2.0_Hanxi W. Rd. / Ln. 146 Dongshan Rd. Sec.1      | Beitun Dist | No. 146-22, Sec. 1, Dongshan Rd.                                         | 500608026 | 17 | 10 | 20210316173906 | 24.16903 | 120.70502 | 7  | 1 |\n| 2 | YouBike2.0_力行國小(進化路221巷)   | 東區   | 進化路/進化路221巷口(西北側)        | YouBike2.0_Li Sing Elementary School (Ln. 221 Jinhua Rd.) | East Dist   | Jinhua Rd., East Dist. &amp; Ln. 211, Jinhua Rd. Intersection (Northwest)    | 500602017 | 20 | 17 | 20210316173905 | 24.14999 | 120.69419 | 3  | 1 |\n| 3 | YouBike2.0_進化精武路口(西南側)    | 東區   | 進化路/精武路口(西南側)             | YouBike2.0_Jinhua Rd. / Jingwu Rd. (Southwest)            | East Dist   | Jinhua Rd., East Dist. &amp; Jingwu Rd. Intersection (Southwest)             | 500602018 | 17 | 12 | 20210316173905 | 24.14765 | 120.69417 | 5  | 1 |\n| 4 | YouBike2.0_國光國小(仁和路)        | 南區   | 國光路261號                         | YouBike2.0_Kuo-Kuang Elementary School (Renhe Rd.)        | South Dist  | No. 261, Guoguang Rd.                                                    | 500604018 | 14 | 11 | 20210316173905 | 24.1263  | 120.67955 | 3  | 1 |\n| 5 | YouBike2.0_仁愛公園                | 北屯區 | 平德路18巷33弄18號                  | YouBike2.0_Renai Park                                     | Beitun Dist | No. 18, Aly. 33, Ln. 18, Pingde Rd.                                      | 500608022 | 15 | 1  | 20210316173906 | 24.18162 | 120.6738  | 14 | 1 |\n| 6 | YouBike2.0_和平公園                | 南區   | 復興路二段15巷/文心南十路口(西北側) | YouBike2.0_Heping Park                                    | South Dist  | Ln. 15, Sec. 2, Fuxing Rd. &amp; Wenxin S. 10th Rd. Intersection (Northwest) | 500604014 | 17 | 10 | 20210316173905 | 24.1189  | 120.65804 | 7  | 1 |\n| 7 | YouBike2.0_南苑公園(文心南五路)    | 南屯區 | 文心南五路一段283號(對側人行道)     | YouBike2.0_Nanyuan Park (Wenxin S. 5th Rd.)               | Nantun Dist | No.283, Sec. 1, Wenxin S. 5th Rd. (Opposite)                             | 500607020 | 17 | 4  | 20210316173906 | 24.13211 | 120.64761 | 13 | 1 |\n| 8 | YouBike2.0_中仁公園                | 西屯區 | 寧夏路89巷38號(對側人行道)          | YouBike2.0_Zhongren Park                                  | Xitun Dist  | No.38, Ln. 89, Ningxia Rd. (Opposite)                                    | 500606037 | 18 | 1  | 20210316173906 | 24.16561 | 120.66077 | 17 | 1 |\n| 9 | YouBike2.0_東峰公園                | 東區   | 七中路/興大路口(東側)               | YouBike2.0_Dongfeng Park                                  | East Dist   | Qizhong Rd. &amp; Xingda Rd. Intersection (East)                             | 500602014 | 20 | 15 | 20210316173905 | 24.12415 | 120.68503 | 5  | 1 |\n| 10 | YouBike2.0_草悟道(公益路155巷)     | 西區   | 公益路155巷/公正路口(西南側)        | YouBike2.0_Calligraphy Greenway(Ln. 155 Gongyi Rd.)       | West Dist   | Ln. 155, Gongyi Rd. &amp; Gongzheng Rd. Intersection (Southwest)             | 500603016 | 18 | 3  | 20210316173905 | 24.1488  | 120.66434 | 15 | 1 |\n\n",
            "text/html": [
              "<table class=\"dataframe\">\n",
              "<caption>A data.frame: 10 × 14</caption>\n",
              "<thead>\n",
              "\t<tr><th></th><th scope=col>sna</th><th scope=col>sarea</th><th scope=col>ar</th><th scope=col>snaen</th><th scope=col>sareaen</th><th scope=col>aren</th><th scope=col>sno</th><th scope=col>tot</th><th scope=col>sbi</th><th scope=col>mday</th><th scope=col>lat</th><th scope=col>lng</th><th scope=col>bemp</th><th scope=col>act</th></tr>\n",
              "\t<tr><th></th><th scope=col>&lt;chr&gt;</th><th scope=col>&lt;chr&gt;</th><th scope=col>&lt;chr&gt;</th><th scope=col>&lt;chr&gt;</th><th scope=col>&lt;chr&gt;</th><th scope=col>&lt;chr&gt;</th><th scope=col>&lt;chr&gt;</th><th scope=col>&lt;chr&gt;</th><th scope=col>&lt;chr&gt;</th><th scope=col>&lt;chr&gt;</th><th scope=col>&lt;chr&gt;</th><th scope=col>&lt;chr&gt;</th><th scope=col>&lt;chr&gt;</th><th scope=col>&lt;chr&gt;</th></tr>\n",
              "</thead>\n",
              "<tbody>\n",
              "\t<tr><th scope=row>1</th><td>YouBike2.0_旱溪西東山路一段146巷口</td><td>北屯區</td><td>東山路一段146-22號                 </td><td>YouBike2.0_Hanxi W. Rd. / Ln. 146 Dongshan Rd. Sec.1     </td><td>Beitun Dist</td><td>No. 146-22, Sec. 1, Dongshan Rd.                                        </td><td>500608026</td><td>17</td><td>10</td><td>20210316173906</td><td>24.16903</td><td>120.70502</td><td>7 </td><td>1</td></tr>\n",
              "\t<tr><th scope=row>2</th><td><span style=white-space:pre-wrap>YouBike2.0_力行國小(進化路221巷)  </span></td><td><span style=white-space:pre-wrap>東區  </span></td><td><span style=white-space:pre-wrap>進化路/進化路221巷口(西北側)       </span></td><td>YouBike2.0_Li Sing Elementary School (Ln. 221 Jinhua Rd.)</td><td><span style=white-space:pre-wrap>East Dist  </span></td><td><span style=white-space:pre-wrap>Jinhua Rd., East Dist. &amp; Ln. 211, Jinhua Rd. Intersection (Northwest)   </span></td><td>500602017</td><td>20</td><td>17</td><td>20210316173905</td><td>24.14999</td><td>120.69419</td><td>3 </td><td>1</td></tr>\n",
              "\t<tr><th scope=row>3</th><td><span style=white-space:pre-wrap>YouBike2.0_進化精武路口(西南側)   </span></td><td><span style=white-space:pre-wrap>東區  </span></td><td><span style=white-space:pre-wrap>進化路/精武路口(西南側)            </span></td><td><span style=white-space:pre-wrap>YouBike2.0_Jinhua Rd. / Jingwu Rd. (Southwest)           </span></td><td><span style=white-space:pre-wrap>East Dist  </span></td><td><span style=white-space:pre-wrap>Jinhua Rd., East Dist. &amp; Jingwu Rd. Intersection (Southwest)            </span></td><td>500602018</td><td>17</td><td>12</td><td>20210316173905</td><td>24.14765</td><td>120.69417</td><td>5 </td><td>1</td></tr>\n",
              "\t<tr><th scope=row>4</th><td>YouBike2.0_國光國小(仁和路)       </td><td>南區  </td><td>國光路261號                        </td><td>YouBike2.0_Kuo-Kuang Elementary School (Renhe Rd.)       </td><td>South Dist </td><td>No. 261, Guoguang Rd.                                                   </td><td>500604018</td><td>14</td><td>11</td><td>20210316173905</td><td>24.1263 </td><td>120.67955</td><td>3 </td><td>1</td></tr>\n",
              "\t<tr><th scope=row>5</th><td>YouBike2.0_仁愛公園               </td><td>北屯區</td><td>平德路18巷33弄18號                 </td><td>YouBike2.0_Renai Park                                    </td><td>Beitun Dist</td><td>No. 18, Aly. 33, Ln. 18, Pingde Rd.                                     </td><td>500608022</td><td>15</td><td>1 </td><td>20210316173906</td><td>24.18162</td><td>120.6738 </td><td>14</td><td>1</td></tr>\n",
              "\t<tr><th scope=row>6</th><td><span style=white-space:pre-wrap>YouBike2.0_和平公園               </span></td><td><span style=white-space:pre-wrap>南區  </span></td><td>復興路二段15巷/文心南十路口(西北側)</td><td><span style=white-space:pre-wrap>YouBike2.0_Heping Park                                   </span></td><td>South Dist </td><td>Ln. 15, Sec. 2, Fuxing Rd. &amp; Wenxin S. 10th Rd. Intersection (Northwest)</td><td>500604014</td><td>17</td><td>10</td><td>20210316173905</td><td>24.1189 </td><td>120.65804</td><td>7 </td><td>1</td></tr>\n",
              "\t<tr><th scope=row>7</th><td>YouBike2.0_南苑公園(文心南五路)   </td><td>南屯區</td><td>文心南五路一段283號(對側人行道)    </td><td>YouBike2.0_Nanyuan Park (Wenxin S. 5th Rd.)              </td><td>Nantun Dist</td><td>No.283, Sec. 1, Wenxin S. 5th Rd. (Opposite)                            </td><td>500607020</td><td>17</td><td>4 </td><td>20210316173906</td><td>24.13211</td><td>120.64761</td><td>13</td><td>1</td></tr>\n",
              "\t<tr><th scope=row>8</th><td>YouBike2.0_中仁公園               </td><td>西屯區</td><td>寧夏路89巷38號(對側人行道)         </td><td>YouBike2.0_Zhongren Park                                 </td><td>Xitun Dist </td><td>No.38, Ln. 89, Ningxia Rd. (Opposite)                                   </td><td>500606037</td><td>18</td><td>1 </td><td>20210316173906</td><td>24.16561</td><td>120.66077</td><td>17</td><td>1</td></tr>\n",
              "\t<tr><th scope=row>9</th><td><span style=white-space:pre-wrap>YouBike2.0_東峰公園               </span></td><td><span style=white-space:pre-wrap>東區  </span></td><td><span style=white-space:pre-wrap>七中路/興大路口(東側)              </span></td><td><span style=white-space:pre-wrap>YouBike2.0_Dongfeng Park                                 </span></td><td><span style=white-space:pre-wrap>East Dist  </span></td><td><span style=white-space:pre-wrap>Qizhong Rd. &amp; Xingda Rd. Intersection (East)                            </span></td><td>500602014</td><td>20</td><td>15</td><td>20210316173905</td><td>24.12415</td><td>120.68503</td><td>5 </td><td>1</td></tr>\n",
              "\t<tr><th scope=row>10</th><td><span style=white-space:pre-wrap>YouBike2.0_草悟道(公益路155巷)    </span></td><td><span style=white-space:pre-wrap>西區  </span></td><td><span style=white-space:pre-wrap>公益路155巷/公正路口(西南側)       </span></td><td><span style=white-space:pre-wrap>YouBike2.0_Calligraphy Greenway(Ln. 155 Gongyi Rd.)      </span></td><td><span style=white-space:pre-wrap>West Dist  </span></td><td><span style=white-space:pre-wrap>Ln. 155, Gongyi Rd. &amp; Gongzheng Rd. Intersection (Southwest)            </span></td><td>500603016</td><td>18</td><td>3 </td><td>20210316173905</td><td>24.1488 </td><td>120.66434</td><td>15</td><td>1</td></tr>\n",
              "</tbody>\n",
              "</table>\n"
            ]
          },
          "metadata": {
            "tags": []
          }
        }
      ]
    },
    {
      "cell_type": "code",
      "metadata": {
        "colab": {
          "base_uri": "https://localhost:8080/",
          "height": 784
        },
        "id": "NLD1XhN_Xjj8",
        "outputId": "089d7b75-2ab4-48b8-f6a1-a1c08fc93b52"
      },
      "source": [
        "tail(YouBikeData$retVal, n=10)"
      ],
      "execution_count": 40,
      "outputs": [
        {
          "output_type": "display_data",
          "data": {
            "text/plain": [
              "    sna                                 sarea \n",
              "132 YouBike2.0_大有公園                 西屯區\n",
              "133 YouBike2.0_捷運四維國小站           北屯區\n",
              "134 YouBike2.0_捷運文心櫻花站           西屯區\n",
              "135 YouBike2.0_捷運市府站(出口1)        西屯區\n",
              "136 YouBike2.0_公益河南路口(東南側)     南屯區\n",
              "137 YouBike2.0_捷運九德站(興華街)       烏日區\n",
              "138 YouBike2.0_捷運烏日站(平等路)       烏日區\n",
              "139 YouBike2.0_台灣大道文心路口(西北側) 西屯區\n",
              "140 YouBike2.0_幸福兒童公園             西屯區\n",
              "141 YouBike2.0_烏日區公所(新興路)       烏日區\n",
              "    ar                               \n",
              "132 太原路一段/大有二街口(西北側)    \n",
              "133 文心路四段/興安路一段(西南側)    \n",
              "134 文心路三段107之17號旁            \n",
              "135 文心路二段/台灣大道二段口(西北側)\n",
              "136 公益路二段497號前                \n",
              "137 興華街/自強街口(東北側)          \n",
              "138 平等路/光日路口                  \n",
              "139 台灣大道三段/文心路二段口(西北側)\n",
              "140 櫻城一街85號(東南側)             \n",
              "141 新興路316號旁                    \n",
              "    snaen                                             sareaen    \n",
              "132 YouBike2.0_Dayou Park                             Xitun Dist \n",
              "133 YouBike2.0_TMRT Sihwei Elementary School Sta.     Beitun Dist\n",
              "134 YouBike2.0_TMRT Wenxin Yinghua Sta.               Xitun Dist \n",
              "135 YouBike2.0_TMRT Taichung City Hall  Sta. (Exit 1) Xitun Dist \n",
              "136 YouBike2.0_Gongyi Rd. / Henan Rd. (Southeast)     Nantun Dist\n",
              "137 YouBike2.0_TMRT Jiude Sta. (Xinghua St.)          Wuri Dist  \n",
              "138 YouBike2.0_TMRT Wuri Sta. (Pingdeng Rd.)          Wuri Dist  \n",
              "139 YouBike2.0_Taiwan Blvd. / Wenxin Rd. (Northwest)  Xitun Dist \n",
              "140 YouBike2.0_Xingfu Children's Park                 Xitun Dist \n",
              "141 YouBike2.0_Wuri District Office (Sinsing Rd.)     Wuri Dist  \n",
              "    aren                                                              \n",
              "132 Sec. 1, Taiyuan Rd. & Dayou 2nd St. Intersection (Northwest)      \n",
              "133 Sec. 4, Wenxin Rd. & Sec. 1, Xing'an Rd. (Southwest)              \n",
              "134 No.107-17, Sec. 3, Wenxin Rd.                                     \n",
              "135 Sec. 2, Wenxin Rd. & Sec. 2, Taiwan Blvd. Intersection (Northwest)\n",
              "136 No. 497, Section 2, Gongyi Rd.                                    \n",
              "137 Xinghua St. & Ziqiang St. Intersection (Northeast)                \n",
              "138 Pingdeng Rd. & Guangri Rd. Intersection                           \n",
              "139 Taiwan Blvd. / Wenxin Rd. (Northwest)                             \n",
              "140 No. 85, Yingcheng 1st St. (Southeast)                             \n",
              "141 No. 316, Xinxing Rd.                                              \n",
              "    sno       tot sbi mday           lat      lng       bemp act\n",
              "132 500606004 15  9   20210316173906 24.15983 120.65869 6    1  \n",
              "133 500608002 40  8   20210316173906 24.17107 120.69359 32   1  \n",
              "134 500606001 40  17  20210316173906 24.16802 120.65394 19   1  \n",
              "135 500606002 51  13  20210316173906 24.16241 120.64912 38   1  \n",
              "136 500607005 18  4   20210316173906 24.15133 120.63752 14   1  \n",
              "137 500617002 51  7   20210316173906 24.11022 120.63453 44   1  \n",
              "138 500617003 20  14  20210316173906 24.10833 120.62506 6    1  \n",
              "139 500606006 30  9   20210316173906 24.16300 120.64945 21   1  \n",
              "140 500606009 10  9   20210316173906 24.17233 120.65211 1    1  \n",
              "141 500617005 12  9   20210316173906 24.10450 120.62397 3    1  "
            ],
            "text/latex": "A data.frame: 10 × 14\n\\begin{tabular}{r|llllllllllllll}\n  & sna & sarea & ar & snaen & sareaen & aren & sno & tot & sbi & mday & lat & lng & bemp & act\\\\\n  & <chr> & <chr> & <chr> & <chr> & <chr> & <chr> & <chr> & <chr> & <chr> & <chr> & <chr> & <chr> & <chr> & <chr>\\\\\n\\hline\n\t132 & YouBike2.0\\_大有公園                 & 西屯區 & 太原路一段/大有二街口(西北側)     & YouBike2.0\\_Dayou Park                             & Xitun Dist  & Sec. 1, Taiyuan Rd. \\& Dayou 2nd St. Intersection (Northwest)       & 500606004 & 15 & 9  & 20210316173906 & 24.15983 & 120.65869 & 6  & 1\\\\\n\t133 & YouBike2.0\\_捷運四維國小站           & 北屯區 & 文心路四段/興安路一段(西南側)     & YouBike2.0\\_TMRT Sihwei Elementary School Sta.     & Beitun Dist & Sec. 4, Wenxin Rd. \\& Sec. 1, Xing'an Rd. (Southwest)               & 500608002 & 40 & 8  & 20210316173906 & 24.17107 & 120.69359 & 32 & 1\\\\\n\t134 & YouBike2.0\\_捷運文心櫻花站           & 西屯區 & 文心路三段107之17號旁             & YouBike2.0\\_TMRT Wenxin Yinghua Sta.               & Xitun Dist  & No.107-17, Sec. 3, Wenxin Rd.                                      & 500606001 & 40 & 17 & 20210316173906 & 24.16802 & 120.65394 & 19 & 1\\\\\n\t135 & YouBike2.0\\_捷運市府站(出口1)        & 西屯區 & 文心路二段/台灣大道二段口(西北側) & YouBike2.0\\_TMRT Taichung City Hall  Sta. (Exit 1) & Xitun Dist  & Sec. 2, Wenxin Rd. \\& Sec. 2, Taiwan Blvd. Intersection (Northwest) & 500606002 & 51 & 13 & 20210316173906 & 24.16241 & 120.64912 & 38 & 1\\\\\n\t136 & YouBike2.0\\_公益河南路口(東南側)     & 南屯區 & 公益路二段497號前                 & YouBike2.0\\_Gongyi Rd. / Henan Rd. (Southeast)     & Nantun Dist & No. 497, Section 2, Gongyi Rd.                                     & 500607005 & 18 & 4  & 20210316173906 & 24.15133 & 120.63752 & 14 & 1\\\\\n\t137 & YouBike2.0\\_捷運九德站(興華街)       & 烏日區 & 興華街/自強街口(東北側)           & YouBike2.0\\_TMRT Jiude Sta. (Xinghua St.)          & Wuri Dist   & Xinghua St. \\& Ziqiang St. Intersection (Northeast)                 & 500617002 & 51 & 7  & 20210316173906 & 24.11022 & 120.63453 & 44 & 1\\\\\n\t138 & YouBike2.0\\_捷運烏日站(平等路)       & 烏日區 & 平等路/光日路口                   & YouBike2.0\\_TMRT Wuri Sta. (Pingdeng Rd.)          & Wuri Dist   & Pingdeng Rd. \\& Guangri Rd. Intersection                            & 500617003 & 20 & 14 & 20210316173906 & 24.10833 & 120.62506 & 6  & 1\\\\\n\t139 & YouBike2.0\\_台灣大道文心路口(西北側) & 西屯區 & 台灣大道三段/文心路二段口(西北側) & YouBike2.0\\_Taiwan Blvd. / Wenxin Rd. (Northwest)  & Xitun Dist  & Taiwan Blvd. / Wenxin Rd. (Northwest)                              & 500606006 & 30 & 9  & 20210316173906 & 24.16300 & 120.64945 & 21 & 1\\\\\n\t140 & YouBike2.0\\_幸福兒童公園             & 西屯區 & 櫻城一街85號(東南側)              & YouBike2.0\\_Xingfu Children's Park                 & Xitun Dist  & No. 85, Yingcheng 1st St. (Southeast)                              & 500606009 & 10 & 9  & 20210316173906 & 24.17233 & 120.65211 & 1  & 1\\\\\n\t141 & YouBike2.0\\_烏日區公所(新興路)       & 烏日區 & 新興路316號旁                     & YouBike2.0\\_Wuri District Office (Sinsing Rd.)     & Wuri Dist   & No. 316, Xinxing Rd.                                               & 500617005 & 12 & 9  & 20210316173906 & 24.10450 & 120.62397 & 3  & 1\\\\\n\\end{tabular}\n",
            "text/markdown": "\nA data.frame: 10 × 14\n\n| <!--/--> | sna &lt;chr&gt; | sarea &lt;chr&gt; | ar &lt;chr&gt; | snaen &lt;chr&gt; | sareaen &lt;chr&gt; | aren &lt;chr&gt; | sno &lt;chr&gt; | tot &lt;chr&gt; | sbi &lt;chr&gt; | mday &lt;chr&gt; | lat &lt;chr&gt; | lng &lt;chr&gt; | bemp &lt;chr&gt; | act &lt;chr&gt; |\n|---|---|---|---|---|---|---|---|---|---|---|---|---|---|---|\n| 132 | YouBike2.0_大有公園                 | 西屯區 | 太原路一段/大有二街口(西北側)     | YouBike2.0_Dayou Park                             | Xitun Dist  | Sec. 1, Taiyuan Rd. &amp; Dayou 2nd St. Intersection (Northwest)       | 500606004 | 15 | 9  | 20210316173906 | 24.15983 | 120.65869 | 6  | 1 |\n| 133 | YouBike2.0_捷運四維國小站           | 北屯區 | 文心路四段/興安路一段(西南側)     | YouBike2.0_TMRT Sihwei Elementary School Sta.     | Beitun Dist | Sec. 4, Wenxin Rd. &amp; Sec. 1, Xing'an Rd. (Southwest)               | 500608002 | 40 | 8  | 20210316173906 | 24.17107 | 120.69359 | 32 | 1 |\n| 134 | YouBike2.0_捷運文心櫻花站           | 西屯區 | 文心路三段107之17號旁             | YouBike2.0_TMRT Wenxin Yinghua Sta.               | Xitun Dist  | No.107-17, Sec. 3, Wenxin Rd.                                      | 500606001 | 40 | 17 | 20210316173906 | 24.16802 | 120.65394 | 19 | 1 |\n| 135 | YouBike2.0_捷運市府站(出口1)        | 西屯區 | 文心路二段/台灣大道二段口(西北側) | YouBike2.0_TMRT Taichung City Hall  Sta. (Exit 1) | Xitun Dist  | Sec. 2, Wenxin Rd. &amp; Sec. 2, Taiwan Blvd. Intersection (Northwest) | 500606002 | 51 | 13 | 20210316173906 | 24.16241 | 120.64912 | 38 | 1 |\n| 136 | YouBike2.0_公益河南路口(東南側)     | 南屯區 | 公益路二段497號前                 | YouBike2.0_Gongyi Rd. / Henan Rd. (Southeast)     | Nantun Dist | No. 497, Section 2, Gongyi Rd.                                     | 500607005 | 18 | 4  | 20210316173906 | 24.15133 | 120.63752 | 14 | 1 |\n| 137 | YouBike2.0_捷運九德站(興華街)       | 烏日區 | 興華街/自強街口(東北側)           | YouBike2.0_TMRT Jiude Sta. (Xinghua St.)          | Wuri Dist   | Xinghua St. &amp; Ziqiang St. Intersection (Northeast)                 | 500617002 | 51 | 7  | 20210316173906 | 24.11022 | 120.63453 | 44 | 1 |\n| 138 | YouBike2.0_捷運烏日站(平等路)       | 烏日區 | 平等路/光日路口                   | YouBike2.0_TMRT Wuri Sta. (Pingdeng Rd.)          | Wuri Dist   | Pingdeng Rd. &amp; Guangri Rd. Intersection                            | 500617003 | 20 | 14 | 20210316173906 | 24.10833 | 120.62506 | 6  | 1 |\n| 139 | YouBike2.0_台灣大道文心路口(西北側) | 西屯區 | 台灣大道三段/文心路二段口(西北側) | YouBike2.0_Taiwan Blvd. / Wenxin Rd. (Northwest)  | Xitun Dist  | Taiwan Blvd. / Wenxin Rd. (Northwest)                              | 500606006 | 30 | 9  | 20210316173906 | 24.16300 | 120.64945 | 21 | 1 |\n| 140 | YouBike2.0_幸福兒童公園             | 西屯區 | 櫻城一街85號(東南側)              | YouBike2.0_Xingfu Children's Park                 | Xitun Dist  | No. 85, Yingcheng 1st St. (Southeast)                              | 500606009 | 10 | 9  | 20210316173906 | 24.17233 | 120.65211 | 1  | 1 |\n| 141 | YouBike2.0_烏日區公所(新興路)       | 烏日區 | 新興路316號旁                     | YouBike2.0_Wuri District Office (Sinsing Rd.)     | Wuri Dist   | No. 316, Xinxing Rd.                                               | 500617005 | 12 | 9  | 20210316173906 | 24.10450 | 120.62397 | 3  | 1 |\n\n",
            "text/html": [
              "<table class=\"dataframe\">\n",
              "<caption>A data.frame: 10 × 14</caption>\n",
              "<thead>\n",
              "\t<tr><th></th><th scope=col>sna</th><th scope=col>sarea</th><th scope=col>ar</th><th scope=col>snaen</th><th scope=col>sareaen</th><th scope=col>aren</th><th scope=col>sno</th><th scope=col>tot</th><th scope=col>sbi</th><th scope=col>mday</th><th scope=col>lat</th><th scope=col>lng</th><th scope=col>bemp</th><th scope=col>act</th></tr>\n",
              "\t<tr><th></th><th scope=col>&lt;chr&gt;</th><th scope=col>&lt;chr&gt;</th><th scope=col>&lt;chr&gt;</th><th scope=col>&lt;chr&gt;</th><th scope=col>&lt;chr&gt;</th><th scope=col>&lt;chr&gt;</th><th scope=col>&lt;chr&gt;</th><th scope=col>&lt;chr&gt;</th><th scope=col>&lt;chr&gt;</th><th scope=col>&lt;chr&gt;</th><th scope=col>&lt;chr&gt;</th><th scope=col>&lt;chr&gt;</th><th scope=col>&lt;chr&gt;</th><th scope=col>&lt;chr&gt;</th></tr>\n",
              "</thead>\n",
              "<tbody>\n",
              "\t<tr><th scope=row>132</th><td><span style=white-space:pre-wrap>YouBike2.0_大有公園                </span></td><td>西屯區</td><td><span style=white-space:pre-wrap>太原路一段/大有二街口(西北側)    </span></td><td><span style=white-space:pre-wrap>YouBike2.0_Dayou Park                            </span></td><td>Xitun Dist </td><td><span style=white-space:pre-wrap>Sec. 1, Taiyuan Rd. &amp; Dayou 2nd St. Intersection (Northwest)      </span></td><td>500606004</td><td>15</td><td>9 </td><td>20210316173906</td><td>24.15983</td><td>120.65869</td><td>6 </td><td>1</td></tr>\n",
              "\t<tr><th scope=row>133</th><td><span style=white-space:pre-wrap>YouBike2.0_捷運四維國小站          </span></td><td>北屯區</td><td><span style=white-space:pre-wrap>文心路四段/興安路一段(西南側)    </span></td><td><span style=white-space:pre-wrap>YouBike2.0_TMRT Sihwei Elementary School Sta.    </span></td><td>Beitun Dist</td><td><span style=white-space:pre-wrap>Sec. 4, Wenxin Rd. &amp; Sec. 1, Xing'an Rd. (Southwest)              </span></td><td>500608002</td><td>40</td><td>8 </td><td>20210316173906</td><td>24.17107</td><td>120.69359</td><td>32</td><td>1</td></tr>\n",
              "\t<tr><th scope=row>134</th><td>YouBike2.0_捷運文心櫻花站          </td><td>西屯區</td><td>文心路三段107之17號旁            </td><td>YouBike2.0_TMRT Wenxin Yinghua Sta.              </td><td>Xitun Dist </td><td>No.107-17, Sec. 3, Wenxin Rd.                                     </td><td>500606001</td><td>40</td><td>17</td><td>20210316173906</td><td>24.16802</td><td>120.65394</td><td>19</td><td>1</td></tr>\n",
              "\t<tr><th scope=row>135</th><td><span style=white-space:pre-wrap>YouBike2.0_捷運市府站(出口1)       </span></td><td>西屯區</td><td>文心路二段/台灣大道二段口(西北側)</td><td><span style=white-space:pre-wrap>YouBike2.0_TMRT Taichung City Hall  Sta. (Exit 1)</span></td><td>Xitun Dist </td><td>Sec. 2, Wenxin Rd. &amp; Sec. 2, Taiwan Blvd. Intersection (Northwest)</td><td>500606002</td><td>51</td><td>13</td><td>20210316173906</td><td>24.16241</td><td>120.64912</td><td>38</td><td>1</td></tr>\n",
              "\t<tr><th scope=row>136</th><td>YouBike2.0_公益河南路口(東南側)    </td><td>南屯區</td><td>公益路二段497號前                </td><td>YouBike2.0_Gongyi Rd. / Henan Rd. (Southeast)    </td><td>Nantun Dist</td><td>No. 497, Section 2, Gongyi Rd.                                    </td><td>500607005</td><td>18</td><td>4 </td><td>20210316173906</td><td>24.15133</td><td>120.63752</td><td>14</td><td>1</td></tr>\n",
              "\t<tr><th scope=row>137</th><td><span style=white-space:pre-wrap>YouBike2.0_捷運九德站(興華街)      </span></td><td>烏日區</td><td><span style=white-space:pre-wrap>興華街/自強街口(東北側)          </span></td><td><span style=white-space:pre-wrap>YouBike2.0_TMRT Jiude Sta. (Xinghua St.)         </span></td><td><span style=white-space:pre-wrap>Wuri Dist  </span></td><td><span style=white-space:pre-wrap>Xinghua St. &amp; Ziqiang St. Intersection (Northeast)                </span></td><td>500617002</td><td>51</td><td>7 </td><td>20210316173906</td><td>24.11022</td><td>120.63453</td><td>44</td><td>1</td></tr>\n",
              "\t<tr><th scope=row>138</th><td><span style=white-space:pre-wrap>YouBike2.0_捷運烏日站(平等路)      </span></td><td>烏日區</td><td><span style=white-space:pre-wrap>平等路/光日路口                  </span></td><td><span style=white-space:pre-wrap>YouBike2.0_TMRT Wuri Sta. (Pingdeng Rd.)         </span></td><td><span style=white-space:pre-wrap>Wuri Dist  </span></td><td><span style=white-space:pre-wrap>Pingdeng Rd. &amp; Guangri Rd. Intersection                           </span></td><td>500617003</td><td>20</td><td>14</td><td>20210316173906</td><td>24.10833</td><td>120.62506</td><td>6 </td><td>1</td></tr>\n",
              "\t<tr><th scope=row>139</th><td>YouBike2.0_台灣大道文心路口(西北側)</td><td>西屯區</td><td>台灣大道三段/文心路二段口(西北側)</td><td>YouBike2.0_Taiwan Blvd. / Wenxin Rd. (Northwest) </td><td>Xitun Dist </td><td>Taiwan Blvd. / Wenxin Rd. (Northwest)                             </td><td>500606006</td><td>30</td><td>9 </td><td>20210316173906</td><td>24.16300</td><td>120.64945</td><td>21</td><td>1</td></tr>\n",
              "\t<tr><th scope=row>140</th><td>YouBike2.0_幸福兒童公園            </td><td>西屯區</td><td>櫻城一街85號(東南側)             </td><td>YouBike2.0_Xingfu Children's Park                </td><td>Xitun Dist </td><td>No. 85, Yingcheng 1st St. (Southeast)                             </td><td>500606009</td><td>10</td><td>9 </td><td>20210316173906</td><td>24.17233</td><td>120.65211</td><td>1 </td><td>1</td></tr>\n",
              "\t<tr><th scope=row>141</th><td>YouBike2.0_烏日區公所(新興路)      </td><td>烏日區</td><td>新興路316號旁                    </td><td>YouBike2.0_Wuri District Office (Sinsing Rd.)    </td><td>Wuri Dist  </td><td>No. 316, Xinxing Rd.                                              </td><td>500617005</td><td>12</td><td>9 </td><td>20210316173906</td><td>24.10450</td><td>120.62397</td><td>3 </td><td>1</td></tr>\n",
              "</tbody>\n",
              "</table>\n"
            ]
          },
          "metadata": {
            "tags": []
          }
        }
      ]
    },
    {
      "cell_type": "code",
      "metadata": {
        "colab": {
          "base_uri": "https://localhost:8080/",
          "height": 68
        },
        "id": "gMaJo6bYX88Z",
        "outputId": "412ab917-3edf-4c89-bbcc-4ee6636e61b9"
      },
      "source": [
        "table(YouBikeData$retVal$sarea)"
      ],
      "execution_count": 42,
      "outputs": [
        {
          "output_type": "display_data",
          "data": {
            "text/plain": [
              "\n",
              "  中區   北區 北屯區   南區 南屯區   東區 烏日區   西區 西屯區 \n",
              "     2     15     18     12     21     13     10     17     33 "
            ]
          },
          "metadata": {
            "tags": []
          }
        }
      ]
    },
    {
      "cell_type": "code",
      "metadata": {
        "colab": {
          "base_uri": "https://localhost:8080/",
          "height": 646
        },
        "id": "Ves2DZJMaatp",
        "outputId": "494d77a0-6660-4956-d490-eadb334f5c86"
      },
      "source": [
        "table(YouBikeData$retVal$sno)"
      ],
      "execution_count": 43,
      "outputs": [
        {
          "output_type": "display_data",
          "data": {
            "text/plain": [
              "\n",
              "500601001 500601002 500602001 500602002 500602003 500602004 500602007 500602008 \n",
              "        1         1         1         1         1         1         1         1 \n",
              "500602010 500602011 500602012 500602013 500602014 500602017 500602018 500603001 \n",
              "        1         1         1         1         1         1         1         1 \n",
              "500603002 500603003 500603004 500603005 500603006 500603007 500603008 500603009 \n",
              "        1         1         1         1         1         1         1         1 \n",
              "500603010 500603011 500603013 500603014 500603015 500603016 500603017 500603019 \n",
              "        1         1         1         1         1         1         1         1 \n",
              "500604001 500604002 500604003 500604004 500604005 500604006 500604009 500604011 \n",
              "        1         1         1         1         1         1         1         1 \n",
              "500604012 500604013 500604014 500604018 500605001 500605003 500605004 500605005 \n",
              "        1         1         1         1         1         1         1         1 \n",
              "500605006 500605007 500605008 500605009 500605010 500605011 500605013 500605014 \n",
              "        1         1         1         1         1         1         1         1 \n",
              "500605015 500605017 500605018 500606001 500606002 500606003 500606004 500606005 \n",
              "        1         1         1         1         1         1         1         1 \n",
              "500606006 500606008 500606009 500606010 500606012 500606013 500606014 500606015 \n",
              "        1         1         1         1         1         1         1         1 \n",
              "500606016 500606017 500606018 500606019 500606020 500606021 500606022 500606023 \n",
              "        1         1         1         1         1         1         1         1 \n",
              "500606024 500606025 500606026 500606027 500606029 500606030 500606031 500606032 \n",
              "        1         1         1         1         1         1         1         1 \n",
              "500606033 500606034 500606036 500606037 500607001 500607002 500607003 500607004 \n",
              "        1         1         1         1         1         1         1         1 \n",
              "500607005 500607006 500607007 500607008 500607009 500607010 500607011 500607012 \n",
              "        1         1         1         1         1         1         1         1 \n",
              "500607013 500607014 500607015 500607016 500607017 500607018 500607019 500607020 \n",
              "        1         1         1         1         1         1         1         1 \n",
              "500607021 500608001 500608002 500608003 500608004 500608005 500608006 500608007 \n",
              "        1         1         1         1         1         1         1         1 \n",
              "500608009 500608010 500608012 500608013 500608014 500608015 500608016 500608019 \n",
              "        1         1         1         1         1         1         1         1 \n",
              "500608020 500608022 500608026 500617001 500617002 500617003 500617004 500617005 \n",
              "        1         1         1         1         1         1         1         1 \n",
              "500617007 500617008 500617009 500617010 500617011 \n",
              "        1         1         1         1         1 "
            ]
          },
          "metadata": {
            "tags": []
          }
        }
      ]
    },
    {
      "cell_type": "code",
      "metadata": {
        "colab": {
          "base_uri": "https://localhost:8080/",
          "height": 68
        },
        "id": "Qx_WhkNOcFlz",
        "outputId": "a5317047-e8bb-4b0e-8b09-67c07b54c5d1"
      },
      "source": [
        "table(YouBikeData$retVal$sbi)"
      ],
      "execution_count": 44,
      "outputs": [
        {
          "output_type": "display_data",
          "data": {
            "text/plain": [
              "\n",
              " 0  1 10 11 12 13 14 15 16 17  2 23 25 26  3  4  5  6  7  8  9 \n",
              " 4  6  9  6  6  7  1  1  1  5  9  2  1  2  7  7 14  8 10 23 12 "
            ]
          },
          "metadata": {
            "tags": []
          }
        }
      ]
    }
  ]
}